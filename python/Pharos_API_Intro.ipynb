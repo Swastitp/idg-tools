{
  "nbformat": 4,
  "nbformat_minor": 0,
  "metadata": {
    "colab": {
      "name": "Pharos_API_Intro.ipynb",
      "provenance": []
    },
    "kernelspec": {
      "name": "python3",
      "display_name": "Python 3"
    }
  },
  "cells": [
    {
      "cell_type": "markdown",
      "metadata": {
        "id": "bGoESH5cRZQy",
        "colab_type": "text"
      },
      "source": [
        "<img align=\"right\" src=\"https://druggablegenome.net/IDG_Images_Index/IDGLOGO.png\" width=\"400\">\n",
        "\n",
        "# Pharos API Introduction\n",
        " * https://pharos.nih.gov\n",
        " * https://pharos.nih.gov/api\n",
        " * https://spotlite.nih.gov/ncats/pharos/snippets (Dac Trung Ngyuen)"
      ]
    },
    {
      "cell_type": "markdown",
      "metadata": {
        "id": "7brPTQzLgyw7",
        "colab_type": "text"
      },
      "source": [
        "### Imports and BASE_URL"
      ]
    },
    {
      "cell_type": "code",
      "metadata": {
        "id": "A7bXRlm3RT0f",
        "colab_type": "code",
        "colab": {}
      },
      "source": [
        "import sys, json, urllib.request\n",
        "import pandas\n",
        "import matplotlib.pyplot\n",
        "import altair #Ok for Colaboratory, not GitHub\n",
        "BASE_URL = 'https://pharos.nih.gov/idg/api/v1'"
      ],
      "execution_count": 0,
      "outputs": []
    },
    {
      "cell_type": "markdown",
      "metadata": {
        "id": "RzefXToOfsJX",
        "colab_type": "text"
      },
      "source": [
        "### List target Collections:"
      ]
    },
    {
      "cell_type": "code",
      "metadata": {
        "id": "ytJFr1o0SWw6",
        "colab_type": "code",
        "outputId": "9afc55ca-83ff-4cef-c292-44f7961b4ef3",
        "colab": {
          "base_uri": "https://localhost:8080/",
          "height": 102
        }
      },
      "source": [
        "req = urllib.request.urlopen(BASE_URL + '/targets/Collection/termvec')\n",
        "termvec = json.loads(req.read())\n",
        "for i,term in enumerate(termvec['terms']):\n",
        "  tids = termvec['terms'][term]['docs'] #target IDs\n",
        "  print(\"%d. TERM: \\\"%s\\\" (%d targets)\"%(i+1, term, len(tids)))"
      ],
      "execution_count": 2,
      "outputs": [
        {
          "output_type": "stream",
          "text": [
            "1. TERM: \"GPCR: IDG Consortium (Complete/Control)\" (25 targets)\n",
            "2. TERM: \"GPCR: IDG Consortium (Targets)\" (126 targets)\n",
            "3. TERM: \"Ion Channel: IDG Consortium (Targets)\" (99 targets)\n",
            "4. TERM: \"Kinase: IDG Consortium (Complete/Control)\" (37 targets)\n",
            "5. TERM: \"Kinase: IDG Consortium (Targets)\" (125 targets)\n"
          ],
          "name": "stdout"
        }
      ]
    },
    {
      "cell_type": "markdown",
      "metadata": {
        "id": "SlivgNTef0Qg",
        "colab_type": "text"
      },
      "source": [
        "### Fetch collection of IDG high-priority targets: "
      ]
    },
    {
      "cell_type": "code",
      "metadata": {
        "id": "oolK-iRUYbEs",
        "colab_type": "code",
        "colab": {}
      },
      "source": [
        "term = 'Ion Channel: IDG Consortium (Targets)'\n",
        "tids = termvec['terms'][term]['docs']\n",
        "tgts = []\n",
        "for tid in tids:\n",
        "  req = urllib.request.urlopen(BASE_URL+'/targets('+str(tid)+')')\n",
        "  tgts.append(json.loads(req.read().decode('utf8')))"
      ],
      "execution_count": 0,
      "outputs": []
    },
    {
      "cell_type": "markdown",
      "metadata": {
        "id": "c0HmiLKS3clf",
        "colab_type": "text"
      },
      "source": [
        "### Dataframe with useful columns, indexed by target ID."
      ]
    },
    {
      "cell_type": "code",
      "metadata": {
        "id": "CnZe-RTrcY1-",
        "colab_type": "code",
        "outputId": "aac532e2-4cac-4c6d-f786-e9e63e055544",
        "colab": {
          "base_uri": "https://localhost:8080/",
          "height": 544
        }
      },
      "source": [
        "targets = pandas.DataFrame(tgts)\n",
        "for col in targets.columns:\n",
        "  if col.startswith('_'): targets.drop(columns=col, inplace=True)\n",
        "targets.drop(columns=['self', 'kind', 'created', 'modified', 'deprecated', 'version', 'description', 'grantCount', 'grantTotalCost', 'pubmedCount', 'r01Count'], inplace=True)\n",
        "targets.set_index('id', inplace=True, drop=True)\n",
        "targets.head()"
      ],
      "execution_count": 13,
      "outputs": [
        {
          "output_type": "execute_result",
          "data": {
            "text/html": [
              "<div>\n",
              "<style scoped>\n",
              "    .dataframe tbody tr th:only-of-type {\n",
              "        vertical-align: middle;\n",
              "    }\n",
              "\n",
              "    .dataframe tbody tr th {\n",
              "        vertical-align: top;\n",
              "    }\n",
              "\n",
              "    .dataframe thead th {\n",
              "        text-align: right;\n",
              "    }\n",
              "</style>\n",
              "<table border=\"1\" class=\"dataframe\">\n",
              "  <thead>\n",
              "    <tr style=\"text-align: right;\">\n",
              "      <th></th>\n",
              "      <th>name</th>\n",
              "      <th>accession</th>\n",
              "      <th>gene</th>\n",
              "      <th>idgFamily</th>\n",
              "      <th>idgTDL</th>\n",
              "      <th>novelty</th>\n",
              "      <th>antibodyCount</th>\n",
              "      <th>monoclonalCount</th>\n",
              "      <th>jensenScore</th>\n",
              "      <th>patentCount</th>\n",
              "      <th>ppiCount</th>\n",
              "      <th>knowledgeAvailability</th>\n",
              "      <th>pubTatorScore</th>\n",
              "    </tr>\n",
              "    <tr>\n",
              "      <th>id</th>\n",
              "      <th></th>\n",
              "      <th></th>\n",
              "      <th></th>\n",
              "      <th></th>\n",
              "      <th></th>\n",
              "      <th></th>\n",
              "      <th></th>\n",
              "      <th></th>\n",
              "      <th></th>\n",
              "      <th></th>\n",
              "      <th></th>\n",
              "      <th></th>\n",
              "      <th></th>\n",
              "    </tr>\n",
              "  </thead>\n",
              "  <tbody>\n",
              "    <tr>\n",
              "      <th>11776</th>\n",
              "      <td>Leucine-rich repeat-containing protein 38</td>\n",
              "      <td>Q5VT99</td>\n",
              "      <td>LRRC38</td>\n",
              "      <td>Ion Channel</td>\n",
              "      <td>Tbio</td>\n",
              "      <td>0.346787</td>\n",
              "      <td>65</td>\n",
              "      <td>0</td>\n",
              "      <td>0.342857</td>\n",
              "      <td>45.0</td>\n",
              "      <td>NaN</td>\n",
              "      <td>15.155282</td>\n",
              "      <td>-0.397940</td>\n",
              "    </tr>\n",
              "    <tr>\n",
              "      <th>6147</th>\n",
              "      <td>Acetylcholine receptor subunit delta</td>\n",
              "      <td>Q07001</td>\n",
              "      <td>CHRND</td>\n",
              "      <td>Ion Channel</td>\n",
              "      <td>Tclin</td>\n",
              "      <td>-1.301542</td>\n",
              "      <td>155</td>\n",
              "      <td>11</td>\n",
              "      <td>18.911755</td>\n",
              "      <td>853.0</td>\n",
              "      <td>54.0</td>\n",
              "      <td>29.076582</td>\n",
              "      <td>1.077485</td>\n",
              "    </tr>\n",
              "    <tr>\n",
              "      <th>4867</th>\n",
              "      <td>Chloride intracellular channel protein 5</td>\n",
              "      <td>Q9NZA1</td>\n",
              "      <td>CLIC5</td>\n",
              "      <td>Ion Channel</td>\n",
              "      <td>Tbio</td>\n",
              "      <td>-0.972295</td>\n",
              "      <td>179</td>\n",
              "      <td>107</td>\n",
              "      <td>9.779901</td>\n",
              "      <td>1412.0</td>\n",
              "      <td>2.0</td>\n",
              "      <td>38.607881</td>\n",
              "      <td>1.013222</td>\n",
              "    </tr>\n",
              "    <tr>\n",
              "      <th>18956</th>\n",
              "      <td>Potassium voltage-gated channel subfamily H me...</td>\n",
              "      <td>Q96L42</td>\n",
              "      <td>KCNH8</td>\n",
              "      <td>Ion Channel</td>\n",
              "      <td>Tclin</td>\n",
              "      <td>-0.661097</td>\n",
              "      <td>64</td>\n",
              "      <td>6</td>\n",
              "      <td>4.854944</td>\n",
              "      <td>17499.0</td>\n",
              "      <td>NaN</td>\n",
              "      <td>31.375086</td>\n",
              "      <td>0.223072</td>\n",
              "    </tr>\n",
              "    <tr>\n",
              "      <th>5901</th>\n",
              "      <td>Amiloride-sensitive sodium channel subunit beta</td>\n",
              "      <td>P51168</td>\n",
              "      <td>SCNN1B</td>\n",
              "      <td>Ion Channel</td>\n",
              "      <td>Tclin</td>\n",
              "      <td>-1.753736</td>\n",
              "      <td>316</td>\n",
              "      <td>60</td>\n",
              "      <td>52.596674</td>\n",
              "      <td>2046.0</td>\n",
              "      <td>1.0</td>\n",
              "      <td>35.627546</td>\n",
              "      <td>1.803175</td>\n",
              "    </tr>\n",
              "  </tbody>\n",
              "</table>\n",
              "</div>"
            ],
            "text/plain": [
              "                                                    name  ... pubTatorScore\n",
              "id                                                        ...              \n",
              "11776          Leucine-rich repeat-containing protein 38  ...     -0.397940\n",
              "6147                Acetylcholine receptor subunit delta  ...      1.077485\n",
              "4867            Chloride intracellular channel protein 5  ...      1.013222\n",
              "18956  Potassium voltage-gated channel subfamily H me...  ...      0.223072\n",
              "5901     Amiloride-sensitive sodium channel subunit beta  ...      1.803175\n",
              "\n",
              "[5 rows x 13 columns]"
            ]
          },
          "metadata": {
            "tags": []
          },
          "execution_count": 13
        }
      ]
    },
    {
      "cell_type": "markdown",
      "metadata": {
        "id": "puX2oF50FYUX",
        "colab_type": "text"
      },
      "source": [
        "### Counts and stats:"
      ]
    },
    {
      "cell_type": "code",
      "metadata": {
        "id": "bffWRa9qgKyY",
        "colab_type": "code",
        "outputId": "db6162de-99ba-4ed7-c603-a18279449421",
        "colab": {
          "base_uri": "https://localhost:8080/",
          "height": 51
        }
      },
      "source": [
        "targets.idgFamily.value_counts()"
      ],
      "execution_count": 14,
      "outputs": [
        {
          "output_type": "execute_result",
          "data": {
            "text/plain": [
              "Ion Channel    99\n",
              "Name: idgFamily, dtype: int64"
            ]
          },
          "metadata": {
            "tags": []
          },
          "execution_count": 14
        }
      ]
    },
    {
      "cell_type": "code",
      "metadata": {
        "id": "ErHDWbyygTmA",
        "colab_type": "code",
        "outputId": "ec399ca7-ea97-445a-daa0-ba94d5a100b8",
        "colab": {
          "base_uri": "https://localhost:8080/",
          "height": 102
        }
      },
      "source": [
        "targets.idgTDL.value_counts()"
      ],
      "execution_count": 15,
      "outputs": [
        {
          "output_type": "execute_result",
          "data": {
            "text/plain": [
              "Tbio     46\n",
              "Tclin    24\n",
              "Tdark    15\n",
              "Tchem    14\n",
              "Name: idgTDL, dtype: int64"
            ]
          },
          "metadata": {
            "tags": []
          },
          "execution_count": 15
        }
      ]
    },
    {
      "cell_type": "code",
      "metadata": {
        "id": "wkY8zcr57fxh",
        "colab_type": "code",
        "outputId": "7576fe60-a195-488e-cb10-3819faafe14e",
        "colab": {
          "base_uri": "https://localhost:8080/",
          "height": 323
        }
      },
      "source": [
        "targets.info()"
      ],
      "execution_count": 8,
      "outputs": [
        {
          "output_type": "stream",
          "text": [
            "<class 'pandas.core.frame.DataFrame'>\n",
            "Int64Index: 126 entries, 3584 to 17407\n",
            "Data columns (total 13 columns):\n",
            "name                     126 non-null object\n",
            "accession                126 non-null object\n",
            "gene                     126 non-null object\n",
            "idgFamily                126 non-null object\n",
            "idgTDL                   126 non-null object\n",
            "novelty                  123 non-null float64\n",
            "antibodyCount            126 non-null int64\n",
            "monoclonalCount          126 non-null int64\n",
            "jensenScore              126 non-null float64\n",
            "patentCount              124 non-null float64\n",
            "ppiCount                 21 non-null float64\n",
            "knowledgeAvailability    126 non-null float64\n",
            "pubTatorScore            125 non-null float64\n",
            "dtypes: float64(6), int64(2), object(5)\n",
            "memory usage: 13.8+ KB\n"
          ],
          "name": "stdout"
        }
      ]
    },
    {
      "cell_type": "code",
      "metadata": {
        "id": "q9fpbhVj8LsU",
        "colab_type": "code",
        "outputId": "eecfc8f5-38cb-477d-8799-c26def4bfee7",
        "colab": {
          "base_uri": "https://localhost:8080/",
          "height": 297
        }
      },
      "source": [
        "targets.describe().round(2)"
      ],
      "execution_count": 16,
      "outputs": [
        {
          "output_type": "execute_result",
          "data": {
            "text/html": [
              "<div>\n",
              "<style scoped>\n",
              "    .dataframe tbody tr th:only-of-type {\n",
              "        vertical-align: middle;\n",
              "    }\n",
              "\n",
              "    .dataframe tbody tr th {\n",
              "        vertical-align: top;\n",
              "    }\n",
              "\n",
              "    .dataframe thead th {\n",
              "        text-align: right;\n",
              "    }\n",
              "</style>\n",
              "<table border=\"1\" class=\"dataframe\">\n",
              "  <thead>\n",
              "    <tr style=\"text-align: right;\">\n",
              "      <th></th>\n",
              "      <th>novelty</th>\n",
              "      <th>antibodyCount</th>\n",
              "      <th>monoclonalCount</th>\n",
              "      <th>jensenScore</th>\n",
              "      <th>patentCount</th>\n",
              "      <th>ppiCount</th>\n",
              "      <th>knowledgeAvailability</th>\n",
              "      <th>pubTatorScore</th>\n",
              "    </tr>\n",
              "  </thead>\n",
              "  <tbody>\n",
              "    <tr>\n",
              "      <th>count</th>\n",
              "      <td>96.00</td>\n",
              "      <td>99.00</td>\n",
              "      <td>99.00</td>\n",
              "      <td>99.00</td>\n",
              "      <td>91.00</td>\n",
              "      <td>43.00</td>\n",
              "      <td>99.00</td>\n",
              "      <td>98.00</td>\n",
              "    </tr>\n",
              "    <tr>\n",
              "      <th>mean</th>\n",
              "      <td>-1.01</td>\n",
              "      <td>106.25</td>\n",
              "      <td>16.63</td>\n",
              "      <td>18.33</td>\n",
              "      <td>2925.26</td>\n",
              "      <td>14.81</td>\n",
              "      <td>28.04</td>\n",
              "      <td>0.89</td>\n",
              "    </tr>\n",
              "    <tr>\n",
              "      <th>std</th>\n",
              "      <td>0.56</td>\n",
              "      <td>70.28</td>\n",
              "      <td>29.05</td>\n",
              "      <td>20.78</td>\n",
              "      <td>5647.86</td>\n",
              "      <td>19.48</td>\n",
              "      <td>7.61</td>\n",
              "      <td>0.57</td>\n",
              "    </tr>\n",
              "    <tr>\n",
              "      <th>min</th>\n",
              "      <td>-2.03</td>\n",
              "      <td>0.00</td>\n",
              "      <td>0.00</td>\n",
              "      <td>0.00</td>\n",
              "      <td>45.00</td>\n",
              "      <td>1.00</td>\n",
              "      <td>4.83</td>\n",
              "      <td>-0.60</td>\n",
              "    </tr>\n",
              "    <tr>\n",
              "      <th>25%</th>\n",
              "      <td>-1.46</td>\n",
              "      <td>68.00</td>\n",
              "      <td>0.00</td>\n",
              "      <td>3.71</td>\n",
              "      <td>508.50</td>\n",
              "      <td>2.00</td>\n",
              "      <td>23.02</td>\n",
              "      <td>0.63</td>\n",
              "    </tr>\n",
              "    <tr>\n",
              "      <th>50%</th>\n",
              "      <td>-1.04</td>\n",
              "      <td>92.00</td>\n",
              "      <td>2.00</td>\n",
              "      <td>10.52</td>\n",
              "      <td>1278.00</td>\n",
              "      <td>4.00</td>\n",
              "      <td>28.31</td>\n",
              "      <td>1.00</td>\n",
              "    </tr>\n",
              "    <tr>\n",
              "      <th>75%</th>\n",
              "      <td>-0.64</td>\n",
              "      <td>139.00</td>\n",
              "      <td>20.00</td>\n",
              "      <td>25.17</td>\n",
              "      <td>2732.00</td>\n",
              "      <td>24.50</td>\n",
              "      <td>32.45</td>\n",
              "      <td>1.30</td>\n",
              "    </tr>\n",
              "    <tr>\n",
              "      <th>max</th>\n",
              "      <td>0.35</td>\n",
              "      <td>471.00</td>\n",
              "      <td>151.00</td>\n",
              "      <td>95.16</td>\n",
              "      <td>42817.00</td>\n",
              "      <td>70.00</td>\n",
              "      <td>45.70</td>\n",
              "      <td>1.80</td>\n",
              "    </tr>\n",
              "  </tbody>\n",
              "</table>\n",
              "</div>"
            ],
            "text/plain": [
              "       novelty  antibodyCount  ...  knowledgeAvailability  pubTatorScore\n",
              "count    96.00          99.00  ...                  99.00          98.00\n",
              "mean     -1.01         106.25  ...                  28.04           0.89\n",
              "std       0.56          70.28  ...                   7.61           0.57\n",
              "min      -2.03           0.00  ...                   4.83          -0.60\n",
              "25%      -1.46          68.00  ...                  23.02           0.63\n",
              "50%      -1.04          92.00  ...                  28.31           1.00\n",
              "75%      -0.64         139.00  ...                  32.45           1.30\n",
              "max       0.35         471.00  ...                  45.70           1.80\n",
              "\n",
              "[8 rows x 8 columns]"
            ]
          },
          "metadata": {
            "tags": []
          },
          "execution_count": 16
        }
      ]
    },
    {
      "cell_type": "code",
      "metadata": {
        "id": "I5w1rFLsL6k5",
        "colab_type": "code",
        "outputId": "cc5403fb-a975-480a-cc7b-488bfeaae3c8",
        "colab": {
          "base_uri": "https://localhost:8080/",
          "height": 281
        }
      },
      "source": [
        "tdls = [\"Tdark\", \"Tbio\", \"Tchem\", \"Tclin\"]\n",
        "tdl_colors = [\"gray\", \"red\", \"green\", \"blue\"]\n",
        "data = [targets.knowledgeAvailability[targets.idgTDL==tdl] for tdl in tdls]\n",
        "fig, ax = matplotlib.pyplot.subplots()\n",
        "ax.set_title('Knowledge Availability Score')\n",
        "plot = ax.boxplot(data, labels=tdls, vert=False, patch_artist=True)\n",
        "for patch, color in zip(plot['boxes'], tdl_colors):\n",
        "  patch.set_facecolor(color)\n",
        "matplotlib.pyplot.show()"
      ],
      "execution_count": 17,
      "outputs": [
        {
          "output_type": "display_data",
          "data": {
            "image/png": "[encoded data removed]",
            "text/plain": [
              "<Figure size 432x288 with 1 Axes>"
            ]
          },
          "metadata": {
            "tags": []
          }
        }
      ]
    },
    {
      "cell_type": "markdown",
      "metadata": {
        "id": "ai38KKAAFdmE",
        "colab_type": "text"
      },
      "source": [
        "### Knowledge Availability Score distributions plot"
      ]
    },
    {
      "cell_type": "code",
      "metadata": {
        "id": "P6cvsH-n9Cpr",
        "colab_type": "code",
        "outputId": "2c670729-d889-4de4-e74f-34b7701afbd8",
        "colab": {
          "base_uri": "https://localhost:8080/",
          "height": 160
        }
      },
      "source": [
        "lower_box = 'q1(knowledgeAvailability):Q'\n",
        "lower_whisker = 'min(knowledgeAvailability):Q'\n",
        "upper_box = 'q3(knowledgeAvailability):Q'\n",
        "upper_whisker = 'max(knowledgeAvailability):Q'\n",
        "tdls = ['Tdark','Tbio', 'Tchem', 'Tclin']\n",
        "palette = altair.Scale(domain=tdls, range=['gray', 'red', 'green', 'blue'])\n",
        "colors = altair.Color('idgTDL', scale=palette)\n",
        "plot = altair.Chart(targets, title=\"Knowledge Availability Score (KAS)\").mark_rule().encode(\n",
        "    x=altair.X(lower_whisker, axis=altair.Axis(title=\"KAS\")),\n",
        "    x2=lower_box,\n",
        "    y=altair.Y('idgTDL', sort=tdls)\n",
        ")\n",
        "plot += altair.Chart(targets).mark_bar(size=10).encode(\n",
        "    x=lower_box,\n",
        "    x2=upper_box,\n",
        "    y=altair.Y('idgTDL', sort=tdls),\n",
        "    color=colors\n",
        ")\n",
        "plot += altair.Chart(targets).mark_rule().encode(\n",
        "    x=upper_whisker,\n",
        "    x2=upper_box,\n",
        "    y=altair.Y('idgTDL', sort=tdls),\n",
        "    color=colors\n",
        ")\n",
        "plot += altair.Chart(targets).mark_tick(color='white', size=10).encode(\n",
        "    x='median(knowledgeAvailability):Q',\n",
        "    y=altair.Y('idgTDL', sort=tdls)\n",
        ")\n",
        "plot"
      ],
      "execution_count": 18,
      "outputs": [
        {
          "output_type": "execute_result",
          "data": {
            "text/plain": [
              "alt.LayerChart(...)"
            ],
            "text/html": [
              "<!DOCTYPE html>\n",
              "<html>\n",
              "<head>\n",
              "  <style>\n",
              "    .error {\n",
              "        color: red;\n",
              "    }\n",
              "  </style>\n",
              "  <script type=\"text/javascript\" src=\"https://cdn.jsdelivr.net/npm//vega@5\"></script>\n",
              "  <script type=\"text/javascript\" src=\"https://cdn.jsdelivr.net/npm//vega-lite@3.4.0\"></script>\n",
              "  <script type=\"text/javascript\" src=\"https://cdn.jsdelivr.net/npm//vega-embed@5\"></script>\n",
              "</head>\n",
              "<body>\n",
              "  <div id=\"altair-viz\"></div>\n",
              "  <script>\n",
              "    (function(vegaEmbed) {\n",
              "      var spec = {\"config\": {\"view\": {\"width\": 400, \"height\": 300}, \"mark\": {\"tooltip\": null}}, \"layer\": [{\"mark\": \"rule\", \"encoding\": {\"x\": {\"type\": \"quantitative\", \"aggregate\": \"min\", \"axis\": {\"title\": \"KAS\"}, \"field\": \"knowledgeAvailability\"}, \"x2\": {\"aggregate\": \"q1\", \"field\": \"knowledgeAvailability\"}, \"y\": {\"type\": \"nominal\", \"field\": \"idgTDL\", \"sort\": [\"Tdark\", \"Tbio\", \"Tchem\", \"Tclin\"]}}, \"title\": \"Knowledge Availability Score (KAS)\"}, {\"mark\": {\"type\": \"bar\", \"size\": 10}, \"encoding\": {\"color\": {\"type\": \"nominal\", \"field\": \"idgTDL\", \"scale\": {\"domain\": [\"Tdark\", \"Tbio\", \"Tchem\", \"Tclin\"], \"range\": [\"gray\", \"red\", \"green\", \"blue\"]}}, \"x\": {\"type\": \"quantitative\", \"aggregate\": \"q1\", \"field\": \"knowledgeAvailability\"}, \"x2\": {\"aggregate\": \"q3\", \"field\": \"knowledgeAvailability\"}, \"y\": {\"type\": \"nominal\", \"field\": \"idgTDL\", \"sort\": [\"Tdark\", \"Tbio\", \"Tchem\", \"Tclin\"]}}}, {\"mark\": \"rule\", \"encoding\": {\"color\": {\"type\": \"nominal\", \"field\": \"idgTDL\", \"scale\": {\"domain\": [\"Tdark\", \"Tbio\", \"Tchem\", \"Tclin\"], \"range\": [\"gray\", \"red\", \"green\", \"blue\"]}}, \"x\": {\"type\": \"quantitative\", \"aggregate\": \"max\", \"field\": \"knowledgeAvailability\"}, \"x2\": {\"aggregate\": \"q3\", \"field\": \"knowledgeAvailability\"}, \"y\": {\"type\": \"nominal\", \"field\": \"idgTDL\", \"sort\": [\"Tdark\", \"Tbio\", \"Tchem\", \"Tclin\"]}}}, {\"mark\": {\"type\": \"tick\", \"color\": \"white\", \"size\": 10}, \"encoding\": {\"x\": {\"type\": \"quantitative\", \"aggregate\": \"median\", \"field\": \"knowledgeAvailability\"}, \"y\": {\"type\": \"nominal\", \"field\": \"idgTDL\", \"sort\": [\"Tdark\", \"Tbio\", \"Tchem\", \"Tclin\"]}}}], \"data\": {\"name\": \"data-eafae56a7a4204de4a22aaacb34bec9f\"}, \"$schema\": \"https://vega.github.io/schema/vega-lite/v3.4.0.json\", \"datasets\": {\"data-eafae56a7a4204de4a22aaacb34bec9f\": [{\"name\": \"Leucine-rich repeat-containing protein 38\", \"accession\": \"Q5VT99\", \"gene\": \"LRRC38\", \"idgFamily\": \"Ion Channel\", \"idgTDL\": \"Tbio\", \"novelty\": 0.34678748579036184, \"antibodyCount\": 65, \"monoclonalCount\": 0, \"jensenScore\": 0.342857, \"patentCount\": 45.0, \"ppiCount\": null, \"knowledgeAvailability\": 15.155282143194965, \"pubTatorScore\": -0.3979400086720376}, {\"name\": \"Acetylcholine receptor subunit delta\", \"accession\": \"Q07001\", \"gene\": \"CHRND\", \"idgFamily\": \"Ion Channel\", \"idgTDL\": \"Tclin\", \"novelty\": -1.3015416352483382, \"antibodyCount\": 155, \"monoclonalCount\": 11, \"jensenScore\": 18.911755, \"patentCount\": 853.0, \"ppiCount\": 54.0, \"knowledgeAvailability\": 29.076581853479503, \"pubTatorScore\": 1.0774849128036612}, {\"name\": \"Chloride intracellular channel protein 5\", \"accession\": \"Q9NZA1\", \"gene\": \"CLIC5\", \"idgFamily\": \"Ion Channel\", \"idgTDL\": \"Tbio\", \"novelty\": -0.9722945389163753, \"antibodyCount\": 179, \"monoclonalCount\": 107, \"jensenScore\": 9.779901, \"patentCount\": 1412.0, \"ppiCount\": 2.0, \"knowledgeAvailability\": 38.60788106850508, \"pubTatorScore\": 1.0132218898096637}, {\"name\": \"Potassium voltage-gated channel subfamily H member 8\", \"accession\": \"Q96L42\", \"gene\": \"KCNH8\", \"idgFamily\": \"Ion Channel\", \"idgTDL\": \"Tclin\", \"novelty\": -0.6610968312192829, \"antibodyCount\": 64, \"monoclonalCount\": 6, \"jensenScore\": 4.854944, \"patentCount\": 17499.0, \"ppiCount\": null, \"knowledgeAvailability\": 31.37508610942861, \"pubTatorScore\": 0.22307182306785067}, {\"name\": \"Amiloride-sensitive sodium channel subunit beta\", \"accession\": \"P51168\", \"gene\": \"SCNN1B\", \"idgFamily\": \"Ion Channel\", \"idgTDL\": \"Tclin\", \"novelty\": -1.7537361099533306, \"antibodyCount\": 316, \"monoclonalCount\": 60, \"jensenScore\": 52.596674, \"patentCount\": 2046.0, \"ppiCount\": 1.0, \"knowledgeAvailability\": 35.62754584959755, \"pubTatorScore\": 1.803175429413177}, {\"name\": \"Cyclic nucleotide-gated cation channel alpha-4\", \"accession\": \"Q8IV77\", \"gene\": \"CNGA4\", \"idgFamily\": \"Ion Channel\", \"idgTDL\": \"Tbio\", \"novelty\": -0.964891638530251, \"antibodyCount\": 67, \"monoclonalCount\": 1, \"jensenScore\": 9.223874, \"patentCount\": 1278.0, \"ppiCount\": 2.0, \"knowledgeAvailability\": 18.987193591955815, \"pubTatorScore\": 0.7788399294040472}, {\"name\": \"5-hydroxytryptamine receptor 3D\", \"accession\": \"Q70Z44\", \"gene\": \"HTR3D\", \"idgFamily\": \"Ion Channel\", \"idgTDL\": \"Tchem\", \"novelty\": -0.5595324704889653, \"antibodyCount\": 20, \"monoclonalCount\": 0, \"jensenScore\": 3.231133, \"patentCount\": 395.0, \"ppiCount\": 3.0, \"knowledgeAvailability\": 13.17771702447262, \"pubTatorScore\": -0.022276394711152253}, {\"name\": \"Polycystic kidney disease protein 1-like 3\", \"accession\": \"Q7Z443\", \"gene\": \"PKD1L3\", \"idgFamily\": \"Ion Channel\", \"idgTDL\": \"Tbio\", \"novelty\": null, \"antibodyCount\": 28, \"monoclonalCount\": 0, \"jensenScore\": 0.0, \"patentCount\": null, \"ppiCount\": null, \"knowledgeAvailability\": 20.545020211328243, \"pubTatorScore\": 1.0000516779685684}, {\"name\": \"Leucine-rich repeat-containing protein 55\", \"accession\": \"Q6ZSA7\", \"gene\": \"LRRC55\", \"idgFamily\": \"Ion Channel\", \"idgTDL\": \"Tbio\", \"novelty\": -0.4232458745882496, \"antibodyCount\": 10, \"monoclonalCount\": 2, \"jensenScore\": 1.542857, \"patentCount\": 59.0, \"ppiCount\": 70.0, \"knowledgeAvailability\": 17.243039940086174, \"pubTatorScore\": -0.18708664335714442}, {\"name\": \"Transmembrane channel-like protein 7\", \"accession\": \"Q7Z402\", \"gene\": \"TMC7\", \"idgFamily\": \"Ion Channel\", \"idgTDL\": \"Tbio\", \"novelty\": -0.16421118128726012, \"antibodyCount\": 42, \"monoclonalCount\": 2, \"jensenScore\": 0.46978, \"patentCount\": 420.0, \"ppiCount\": 4.0, \"knowledgeAvailability\": 31.03988266229765, \"pubTatorScore\": -0.49291494284397114}, {\"name\": \"Polycystic kidney disease protein 1-like 2\", \"accession\": \"Q7Z442\", \"gene\": \"PKD1L2\", \"idgFamily\": \"Ion Channel\", \"idgTDL\": \"Tdark\", \"novelty\": -0.4603635710851282, \"antibodyCount\": 42, \"monoclonalCount\": 12, \"jensenScore\": 3.51453, \"patentCount\": 309.0, \"ppiCount\": null, \"knowledgeAvailability\": 23.793613608544607, \"pubTatorScore\": 0.3393568203938636}, {\"name\": \"Transmembrane channel-like protein 4\", \"accession\": \"Q7Z404\", \"gene\": \"TMC4\", \"idgFamily\": \"Ion Channel\", \"idgTDL\": \"Tdark\", \"novelty\": -0.4445652172895838, \"antibodyCount\": 0, \"monoclonalCount\": 0, \"jensenScore\": 1.758676, \"patentCount\": 393.0, \"ppiCount\": null, \"knowledgeAvailability\": 21.675278050275477, \"pubTatorScore\": 0.014240719304508173}, {\"name\": \"Golgi pH regulator A\", \"accession\": \"B7ZAQ6\", \"gene\": \"GPR89A\", \"idgFamily\": \"Ion Channel\", \"idgTDL\": \"Tbio\", \"novelty\": -0.6281455577395804, \"antibodyCount\": 97, \"monoclonalCount\": 16, \"jensenScore\": 7.024011, \"patentCount\": 115.0, \"ppiCount\": null, \"knowledgeAvailability\": 16.380593418176666, \"pubTatorScore\": 0.9661417327390326}, {\"name\": \"Potassium voltage-gated channel subfamily V member 1\", \"accession\": \"Q6PIU1\", \"gene\": \"KCNV1\", \"idgFamily\": \"Ion Channel\", \"idgTDL\": \"Tclin\", \"novelty\": -0.7065500205531813, \"antibodyCount\": 87, \"monoclonalCount\": 2, \"jensenScore\": 5.749841, \"patentCount\": 970.0, \"ppiCount\": null, \"knowledgeAvailability\": 22.860974753084353, \"pubTatorScore\": 0.8704000422651073}, {\"name\": \"Gamma-aminobutyric acid receptor subunit rho-1\", \"accession\": \"P24046\", \"gene\": \"GABRR1\", \"idgFamily\": \"Ion Channel\", \"idgTDL\": \"Tchem\", \"novelty\": -1.7237542478721897, \"antibodyCount\": 148, \"monoclonalCount\": 0, \"jensenScore\": 51.438093, \"patentCount\": 521.0, \"ppiCount\": null, \"knowledgeAvailability\": 27.412842528174444, \"pubTatorScore\": 1.4809402190570702}, {\"name\": \"Potassium voltage-gated channel subfamily S member 3\", \"accession\": \"Q9BQ31\", \"gene\": \"KCNS3\", \"idgFamily\": \"Ion Channel\", \"idgTDL\": \"Tclin\", \"novelty\": -1.0734569186265028, \"antibodyCount\": 73, \"monoclonalCount\": 0, \"jensenScore\": 11.592118, \"patentCount\": 1576.0, \"ppiCount\": 32.0, \"knowledgeAvailability\": 36.587532397256965, \"pubTatorScore\": 1.1074958313200984}, {\"name\": \"FXYD domain-containing ion transport regulator 7\", \"accession\": \"P58549\", \"gene\": \"FXYD7\", \"idgFamily\": \"Ion Channel\", \"idgTDL\": \"Tbio\", \"novelty\": -0.9513816788010206, \"antibodyCount\": 139, \"monoclonalCount\": 2, \"jensenScore\": 9.055555, \"patentCount\": 276.0, \"ppiCount\": null, \"knowledgeAvailability\": 25.0557046403842, \"pubTatorScore\": 0.5250448070368452}, {\"name\": \"Sodium channel protein type 7 subunit alpha\", \"accession\": \"Q01118\", \"gene\": \"SCN7A\", \"idgFamily\": \"Ion Channel\", \"idgTDL\": \"Tclin\", \"novelty\": -0.9942042724031954, \"antibodyCount\": 83, \"monoclonalCount\": 0, \"jensenScore\": 8.524743, \"patentCount\": 7907.0, \"ppiCount\": null, \"knowledgeAvailability\": 27.66607016499104, \"pubTatorScore\": 1.4862903909792247}, {\"name\": \"Protein tweety homolog 2\", \"accession\": \"Q9BSA4\", \"gene\": \"TTYH2\", \"idgFamily\": \"Ion Channel\", \"idgTDL\": \"Tdark\", \"novelty\": -0.5835765776718839, \"antibodyCount\": 19, \"monoclonalCount\": 0, \"jensenScore\": 3.897727, \"patentCount\": 1623.0, \"ppiCount\": null, \"knowledgeAvailability\": 32.221729168343906, \"pubTatorScore\": 0.7805572241728304}, {\"name\": \"Bestrophin-4\", \"accession\": \"Q8NFU0\", \"gene\": \"BEST4\", \"idgFamily\": \"Ion Channel\", \"idgTDL\": \"Tbio\", \"novelty\": -1.4114096659385664, \"antibodyCount\": 75, \"monoclonalCount\": 0, \"jensenScore\": 24.891402, \"patentCount\": 318.0, \"ppiCount\": null, \"knowledgeAvailability\": 18.866565763653053, \"pubTatorScore\": 1.1404780939128412}, {\"name\": \"Amiloride-sensitive sodium channel subunit delta\", \"accession\": \"P51172\", \"gene\": \"SCNN1D\", \"idgFamily\": \"Ion Channel\", \"idgTDL\": \"Tbio\", \"novelty\": -1.162116114787553, \"antibodyCount\": 196, \"monoclonalCount\": 10, \"jensenScore\": 14.723027, \"patentCount\": null, \"ppiCount\": 19.0, \"knowledgeAvailability\": 25.221291455040433, \"pubTatorScore\": 1.295200466675368}, {\"name\": \"Voltage-dependent calcium channel gamma-1 subunit\", \"accession\": \"Q06432\", \"gene\": \"CACNG1\", \"idgFamily\": \"Ion Channel\", \"idgTDL\": \"Tbio\", \"novelty\": -0.7561035176166496, \"antibodyCount\": 144, \"monoclonalCount\": 2, \"jensenScore\": 5.287589, \"patentCount\": 308.0, \"ppiCount\": 14.0, \"knowledgeAvailability\": 21.877694445343234, \"pubTatorScore\": 0.9270605996025667}, {\"name\": \"Voltage-dependent L-type calcium channel subunit beta-1\", \"accession\": \"Q02641\", \"gene\": \"CACNB1\", \"idgFamily\": \"Ion Channel\", \"idgTDL\": \"Tbio\", \"novelty\": -0.9084067908137039, \"antibodyCount\": 294, \"monoclonalCount\": 56, \"jensenScore\": 6.639103, \"patentCount\": 6179.0, \"ppiCount\": 4.0, \"knowledgeAvailability\": 41.039275382887396, \"pubTatorScore\": 0.9817518502084668}, {\"name\": \"Glycine receptor subunit alpha-4\", \"accession\": \"Q5JXX5\", \"gene\": \"GLRA4\", \"idgFamily\": \"Ion Channel\", \"idgTDL\": \"Tdark\", \"novelty\": 0.12493873552256378, \"antibodyCount\": 18, \"monoclonalCount\": 0, \"jensenScore\": 0.95, \"patentCount\": 362.0, \"ppiCount\": null, \"knowledgeAvailability\": 12.17646082022159, \"pubTatorScore\": -0.6020599913279624}, {\"name\": \"Polycystic kidney disease 2-like 2 protein\", \"accession\": \"Q9NZM6\", \"gene\": \"PKD2L2\", \"idgFamily\": \"Ion Channel\", \"idgTDL\": \"Tdark\", \"novelty\": -0.6767331897702848, \"antibodyCount\": 77, \"monoclonalCount\": 2, \"jensenScore\": 4.794022, \"patentCount\": 647.0, \"ppiCount\": 4.0, \"knowledgeAvailability\": 26.63487003273827, \"pubTatorScore\": 0.4759129605838403}, {\"name\": \"Potassium channel subfamily K member 12\", \"accession\": \"Q9HB15\", \"gene\": \"KCNK12\", \"idgFamily\": \"Ion Channel\", \"idgTDL\": \"Tbio\", \"novelty\": -0.7461220797215813, \"antibodyCount\": 102, \"monoclonalCount\": 2, \"jensenScore\": 6.030795, \"patentCount\": 496.0, \"ppiCount\": null, \"knowledgeAvailability\": 25.865569546333365, \"pubTatorScore\": 0.8160186587229207}, {\"name\": \"Sodium channel subunit beta-3\", \"accession\": \"Q9NY72\", \"gene\": \"SCN3B\", \"idgFamily\": \"Ion Channel\", \"idgTDL\": \"Tbio\", \"novelty\": -0.9765433670475693, \"antibodyCount\": 71, \"monoclonalCount\": 16, \"jensenScore\": 10.521094, \"patentCount\": 692.0, \"ppiCount\": 67.0, \"knowledgeAvailability\": 37.56818631320111, \"pubTatorScore\": 0.8460555337034803}, {\"name\": \"Glycine receptor subunit beta\", \"accession\": \"P48167\", \"gene\": \"GLRB\", \"idgFamily\": \"Ion Channel\", \"idgTDL\": \"Tclin\", \"novelty\": -1.2827623431457882, \"antibodyCount\": 97, \"monoclonalCount\": 2, \"jensenScore\": 18.003643, \"patentCount\": 1370.0, \"ppiCount\": null, \"knowledgeAvailability\": 35.173155319134, \"pubTatorScore\": 1.4744590804734}, {\"name\": \"Calcium-activated chloride channel regulator 2\", \"accession\": \"Q9UQC9\", \"gene\": \"CLCA2\", \"idgFamily\": \"Ion Channel\", \"idgTDL\": \"Tbio\", \"novelty\": -2.029693114182174, \"antibodyCount\": 68, \"monoclonalCount\": 38, \"jensenScore\": 95.158388, \"patentCount\": 15807.0, \"ppiCount\": 1.0, \"knowledgeAvailability\": 34.10577929258702, \"pubTatorScore\": 1.484909018963471}, {\"name\": \"Potassium channel subfamily T member 2\", \"accession\": \"Q6UVM3\", \"gene\": \"KCNT2\", \"idgFamily\": \"Ion Channel\", \"idgTDL\": \"Tchem\", \"novelty\": -1.4643966660332348, \"antibodyCount\": 147, \"monoclonalCount\": 78, \"jensenScore\": 28.370008, \"patentCount\": 661.0, \"ppiCount\": null, \"knowledgeAvailability\": 30.691948906574023, \"pubTatorScore\": 1.1864562701720265}, {\"name\": \"5-hydroxytryptamine receptor 3C\", \"accession\": \"Q8WXA8\", \"gene\": \"HTR3C\", \"idgFamily\": \"Ion Channel\", \"idgTDL\": \"Tchem\", \"novelty\": -0.6893061354977469, \"antibodyCount\": 78, \"monoclonalCount\": 0, \"jensenScore\": 5.028615, \"patentCount\": 251.0, \"ppiCount\": 40.0, \"knowledgeAvailability\": 14.049667476884348, \"pubTatorScore\": 1.0620451578925916}, {\"name\": \"Trimeric intracellular cation channel type B\", \"accession\": \"Q9NVV0\", \"gene\": \"TMEM38B\", \"idgFamily\": \"Ion Channel\", \"idgTDL\": \"Tbio\", \"novelty\": -1.3820963433009579, \"antibodyCount\": 69, \"monoclonalCount\": 2, \"jensenScore\": 24.392156, \"patentCount\": 694.0, \"ppiCount\": null, \"knowledgeAvailability\": 36.4160163259827, \"pubTatorScore\": 1.1055507510892744}, {\"name\": \"Gamma-aminobutyric acid receptor subunit pi\", \"accession\": \"O00591\", \"gene\": \"GABRP\", \"idgFamily\": \"Ion Channel\", \"idgTDL\": \"Tclin\", \"novelty\": -1.0597094368331954, \"antibodyCount\": 75, \"monoclonalCount\": 0, \"jensenScore\": 12.706348, \"patentCount\": 3100.0, \"ppiCount\": null, \"knowledgeAvailability\": 31.49533118700863, \"pubTatorScore\": 0.975158691589069}, {\"name\": \"Chloride channel protein ClC-Ka\", \"accession\": \"P51800\", \"gene\": \"CLCNKA\", \"idgFamily\": \"Ion Channel\", \"idgTDL\": \"Tchem\", \"novelty\": -1.5668575066439638, \"antibodyCount\": 140, \"monoclonalCount\": 2, \"jensenScore\": 31.382704, \"patentCount\": 825.0, \"ppiCount\": 1.0, \"knowledgeAvailability\": 24.591511722484487, \"pubTatorScore\": 1.3763379015763475}, {\"name\": \"Potassium channel subfamily T member 1\", \"accession\": \"Q5JUK3\", \"gene\": \"KCNT1\", \"idgFamily\": \"Ion Channel\", \"idgTDL\": \"Tchem\", \"novelty\": -1.9188644894005096, \"antibodyCount\": 82, \"monoclonalCount\": 20, \"jensenScore\": 79.830148, \"patentCount\": 1365.0, \"ppiCount\": null, \"knowledgeAvailability\": 27.724946762897392, \"pubTatorScore\": 1.6658306432655603}, {\"name\": \"Kv channel-interacting protein 1\", \"accession\": \"Q9NZI2\", \"gene\": \"KCNIP1\", \"idgFamily\": \"Ion Channel\", \"idgTDL\": \"Tbio\", \"novelty\": -1.5248735463793874, \"antibodyCount\": 222, \"monoclonalCount\": 111, \"jensenScore\": 33.116193, \"patentCount\": 2535.0, \"ppiCount\": null, \"knowledgeAvailability\": 31.873291990886166, \"pubTatorScore\": 1.4944417180699543}, {\"name\": \"Transmembrane channel-like protein 5\", \"accession\": \"Q6UXY8\", \"gene\": \"TMC5\", \"idgFamily\": \"Ion Channel\", \"idgTDL\": \"Tbio\", \"novelty\": 0.1646114427940486, \"antibodyCount\": 61, \"monoclonalCount\": 0, \"jensenScore\": 0.511205, \"patentCount\": 701.0, \"ppiCount\": 1.0, \"knowledgeAvailability\": 31.635596573644083, \"pubTatorScore\": -0.27754871695366234}, {\"name\": \"Voltage-dependent calcium channel gamma-5 subunit\", \"accession\": \"Q9UF02\", \"gene\": \"CACNG5\", \"idgFamily\": \"Ion Channel\", \"idgTDL\": \"Tdark\", \"novelty\": -0.057991946977686754, \"antibodyCount\": 68, \"monoclonalCount\": 2, \"jensenScore\": 1.441413, \"patentCount\": 179.0, \"ppiCount\": 39.0, \"knowledgeAvailability\": 20.60091696577881, \"pubTatorScore\": -0.04441903288516898}, {\"name\": \"Voltage-dependent L-type calcium channel subunit beta-3\", \"accession\": \"P54284\", \"gene\": \"CACNB3\", \"idgFamily\": \"Ion Channel\", \"idgTDL\": \"Tbio\", \"novelty\": -1.167230971717773, \"antibodyCount\": 158, \"monoclonalCount\": 10, \"jensenScore\": 13.45386, \"patentCount\": 1502.0, \"ppiCount\": 5.0, \"knowledgeAvailability\": 41.70020589987632, \"pubTatorScore\": 0.8565320542086976}, {\"name\": \"Plasmolipin\", \"accession\": \"Q9Y342\", \"gene\": \"PLLP\", \"idgFamily\": \"Ion Channel\", \"idgTDL\": \"Tbio\", \"novelty\": -1.5828570999751344, \"antibodyCount\": 74, \"monoclonalCount\": 0, \"jensenScore\": 39.290662, \"patentCount\": 2697.0, \"ppiCount\": null, \"knowledgeAvailability\": 28.421417355758738, \"pubTatorScore\": 0.8533891079687692}, {\"name\": \"Acid-sensing ion channel 4\", \"accession\": \"Q96FT7\", \"gene\": \"ASIC4\", \"idgFamily\": \"Ion Channel\", \"idgTDL\": \"Tbio\", \"novelty\": -1.1647968091100906, \"antibodyCount\": 113, \"monoclonalCount\": 0, \"jensenScore\": 13.100591, \"patentCount\": 4424.0, \"ppiCount\": 39.0, \"knowledgeAvailability\": 26.954083247230475, \"pubTatorScore\": 0.8080608012976819}, {\"name\": \"Voltage-dependent calcium channel gamma-4 subunit\", \"accession\": \"Q9UBN1\", \"gene\": \"CACNG4\", \"idgFamily\": \"Ion Channel\", \"idgTDL\": \"Tbio\", \"novelty\": -0.6489985530100997, \"antibodyCount\": 117, \"monoclonalCount\": 2, \"jensenScore\": 4.017663, \"patentCount\": 593.0, \"ppiCount\": 9.0, \"knowledgeAvailability\": 33.37538761954724, \"pubTatorScore\": -0.2930936945783554}, {\"name\": \"5-hydroxytryptamine receptor 3E\", \"accession\": \"A5X5Y0\", \"gene\": \"HTR3E\", \"idgFamily\": \"Ion Channel\", \"idgTDL\": \"Tchem\", \"novelty\": -0.8315885294439107, \"antibodyCount\": 83, \"monoclonalCount\": 0, \"jensenScore\": 6.495483, \"patentCount\": 368.0, \"ppiCount\": 3.0, \"knowledgeAvailability\": 13.071005309667195, \"pubTatorScore\": 1.0467884189344359}, {\"name\": \"Potassium voltage-gated channel subfamily A member 7\", \"accession\": \"Q96RP8\", \"gene\": \"KCNA7\", \"idgFamily\": \"Ion Channel\", \"idgTDL\": \"Tclin\", \"novelty\": -0.879782072934278, \"antibodyCount\": 59, \"monoclonalCount\": 0, \"jensenScore\": 7.433535, \"patentCount\": 1898.0, \"ppiCount\": null, \"knowledgeAvailability\": 20.322332512077306, \"pubTatorScore\": 0.8722542548520804}, {\"name\": \"Calcium-activated chloride channel regulator 4\", \"accession\": \"Q14CN2\", \"gene\": \"CLCA4\", \"idgFamily\": \"Ion Channel\", \"idgTDL\": \"Tbio\", \"novelty\": -1.9593110469462773, \"antibodyCount\": 37, \"monoclonalCount\": 0, \"jensenScore\": 77.757868, \"patentCount\": 12925.0, \"ppiCount\": null, \"knowledgeAvailability\": 28.312400496988985, \"pubTatorScore\": 0.9972358407537958}, {\"name\": \"Potassium channel subfamily K member 4\", \"accession\": \"Q9NYG8\", \"gene\": \"KCNK4\", \"idgFamily\": \"Ion Channel\", \"idgTDL\": \"Tbio\", \"novelty\": -1.6684186524360067, \"antibodyCount\": 90, \"monoclonalCount\": 0, \"jensenScore\": 40.618052, \"patentCount\": 3119.0, \"ppiCount\": null, \"knowledgeAvailability\": 21.126718082436504, \"pubTatorScore\": 1.4212044719570096}, {\"name\": \"Glutamate receptor ionotropic, delta-1\", \"accession\": \"Q9ULK0\", \"gene\": \"GRID1\", \"idgFamily\": \"Ion Channel\", \"idgTDL\": \"Tbio\", \"novelty\": -1.0783753703735497, \"antibodyCount\": 166, \"monoclonalCount\": 41, \"jensenScore\": 10.742986, \"patentCount\": 2951.0, \"ppiCount\": 1.0, \"knowledgeAvailability\": 33.96646158536175, \"pubTatorScore\": 1.0098586097140587}, {\"name\": \"Voltage-dependent calcium channel subunit alpha-2/delta-3\", \"accession\": \"Q8IZS8\", \"gene\": \"CACNA2D3\", \"idgFamily\": \"Ion Channel\", \"idgTDL\": \"Tbio\", \"novelty\": -1.0440245948182014, \"antibodyCount\": 72, \"monoclonalCount\": 0, \"jensenScore\": 13.014238, \"patentCount\": 1727.0, \"ppiCount\": 7.0, \"knowledgeAvailability\": 39.14466739834084, \"pubTatorScore\": 1.1572600368398491}, {\"name\": \"Voltage-dependent calcium channel gamma-3 subunit\", \"accession\": \"O60359\", \"gene\": \"CACNG3\", \"idgFamily\": \"Ion Channel\", \"idgTDL\": \"Tbio\", \"novelty\": -0.4181433968283935, \"antibodyCount\": 173, \"monoclonalCount\": 24, \"jensenScore\": 2.582226, \"patentCount\": 655.0, \"ppiCount\": 5.0, \"knowledgeAvailability\": 23.887603408703004, \"pubTatorScore\": 0.6382118189148226}, {\"name\": \"Potassium voltage-gated channel subfamily A member 6\", \"accession\": \"P17658\", \"gene\": \"KCNA6\", \"idgFamily\": \"Ion Channel\", \"idgTDL\": \"Tclin\", \"novelty\": -1.6067488398587335, \"antibodyCount\": 86, \"monoclonalCount\": 11, \"jensenScore\": 36.750194, \"patentCount\": 1758.0, \"ppiCount\": 4.0, \"knowledgeAvailability\": 30.935589263743452, \"pubTatorScore\": 1.3313188207116937}, {\"name\": \"Cation channel sperm-associated protein 2\", \"accession\": \"Q96P56\", \"gene\": \"CATSPER2\", \"idgFamily\": \"Ion Channel\", \"idgTDL\": \"Tchem\", \"novelty\": -1.3669610012330229, \"antibodyCount\": 118, \"monoclonalCount\": 2, \"jensenScore\": 22.869306, \"patentCount\": 4542.0, \"ppiCount\": 3.0, \"knowledgeAvailability\": 30.56463051718348, \"pubTatorScore\": 0.9569150726568176}, {\"name\": \"Small conductance calcium-activated potassium channel protein 1\", \"accession\": \"Q92952\", \"gene\": \"KCNN1\", \"idgFamily\": \"Ion Channel\", \"idgTDL\": \"Tchem\", \"novelty\": null, \"antibodyCount\": 80, \"monoclonalCount\": 0, \"jensenScore\": 0.0, \"patentCount\": null, \"ppiCount\": null, \"knowledgeAvailability\": 31.294916826866935, \"pubTatorScore\": 1.4501782755815391}, {\"name\": \"Chloride transport protein 6\", \"accession\": \"P51797\", \"gene\": \"CLCN6\", \"idgFamily\": \"Ion Channel\", \"idgTDL\": \"Tchem\", \"novelty\": -1.2920245863510103, \"antibodyCount\": 74, \"monoclonalCount\": 9, \"jensenScore\": 19.479394, \"patentCount\": 42817.0, \"ppiCount\": null, \"knowledgeAvailability\": 39.89603103749398, \"pubTatorScore\": 1.2470685504926742}, {\"name\": \"ATP-sensitive inward rectifier potassium channel 15\", \"accession\": \"Q99712\", \"gene\": \"KCNJ15\", \"idgFamily\": \"Ion Channel\", \"idgTDL\": \"Tbio\", \"novelty\": -1.305415946019588, \"antibodyCount\": 131, \"monoclonalCount\": 29, \"jensenScore\": 20.986815, \"patentCount\": 2304.0, \"ppiCount\": 1.0, \"knowledgeAvailability\": 33.354795785171284, \"pubTatorScore\": 1.28322936059237}, {\"name\": \"Glycine receptor subunit alpha-3\", \"accession\": \"O75311\", \"gene\": \"GLRA3\", \"idgFamily\": \"Ion Channel\", \"idgTDL\": \"Tchem\", \"novelty\": -1.1193711364439842, \"antibodyCount\": 82, \"monoclonalCount\": 2, \"jensenScore\": 12.876657, \"patentCount\": 1064.0, \"ppiCount\": 2.0, \"knowledgeAvailability\": 29.929602600151817, \"pubTatorScore\": 1.3439007122496063}, {\"name\": \"Voltage-dependent calcium channel gamma-6 subunit\", \"accession\": \"Q9BXT2\", \"gene\": \"CACNG6\", \"idgFamily\": \"Ion Channel\", \"idgTDL\": \"Tdark\", \"novelty\": 0.3010299956639812, \"antibodyCount\": 101, \"monoclonalCount\": 2, \"jensenScore\": 0.875, \"patentCount\": 613.0, \"ppiCount\": null, \"knowledgeAvailability\": 17.348759779276914, \"pubTatorScore\": 0.35864475699872367}, {\"name\": \"FXYD domain-containing ion transport regulator 3\", \"accession\": \"Q14802\", \"gene\": \"FXYD3\", \"idgFamily\": \"Ion Channel\", \"idgTDL\": \"Tbio\", \"novelty\": -1.7809323244698039, \"antibodyCount\": 76, \"monoclonalCount\": 42, \"jensenScore\": 58.439669, \"patentCount\": 9225.0, \"ppiCount\": null, \"knowledgeAvailability\": 32.444420123699814, \"pubTatorScore\": 1.4935069708510063}, {\"name\": \"Golgi pH regulator B\", \"accession\": \"P0CG08\", \"gene\": \"GPR89B\", \"idgFamily\": \"Ion Channel\", \"idgTDL\": \"Tdark\", \"novelty\": -0.6281455577395804, \"antibodyCount\": 35, \"monoclonalCount\": 7, \"jensenScore\": 7.024011, \"patentCount\": null, \"ppiCount\": null, \"knowledgeAvailability\": 18.74246942045148, \"pubTatorScore\": -0.2552721576678595}, {\"name\": \"Calcium-activated potassium channel subunit beta-4\", \"accession\": \"Q86W47\", \"gene\": \"KCNMB4\", \"idgFamily\": \"Ion Channel\", \"idgTDL\": \"Tbio\", \"novelty\": -0.9823250888944565, \"antibodyCount\": 132, \"monoclonalCount\": 52, \"jensenScore\": 8.048146, \"patentCount\": 724.0, \"ppiCount\": null, \"knowledgeAvailability\": 32.319076560311764, \"pubTatorScore\": 1.1417855397800447}, {\"name\": \"Voltage-dependent L-type calcium channel subunit beta-2\", \"accession\": \"Q08289\", \"gene\": \"CACNB2\", \"idgFamily\": \"Ion Channel\", \"idgTDL\": \"Tbio\", \"novelty\": -1.4635588580279668, \"antibodyCount\": 471, \"monoclonalCount\": 151, \"jensenScore\": 25.449222, \"patentCount\": 1925.0, \"ppiCount\": null, \"knowledgeAvailability\": 45.69601520616698, \"pubTatorScore\": 1.4177064975020115}, {\"name\": \"Potassium voltage-gated channel subfamily S member 2\", \"accession\": \"Q9ULS6\", \"gene\": \"KCNS2\", \"idgFamily\": \"Ion Channel\", \"idgTDL\": \"Tclin\", \"novelty\": -0.3175161435788619, \"antibodyCount\": 137, \"monoclonalCount\": 0, \"jensenScore\": 1.219048, \"patentCount\": 3589.0, \"ppiCount\": null, \"knowledgeAvailability\": 21.61645698969044, \"pubTatorScore\": 0.004116648137179551}, {\"name\": \"Potassium voltage-gated channel subfamily G member 3\", \"accession\": \"Q8TAE7\", \"gene\": \"KCNG3\", \"idgFamily\": \"Ion Channel\", \"idgTDL\": \"Tclin\", \"novelty\": -0.37193573698733984, \"antibodyCount\": 111, \"monoclonalCount\": 21, \"jensenScore\": 2.615926, \"patentCount\": 1909.0, \"ppiCount\": null, \"knowledgeAvailability\": 26.245906481211627, \"pubTatorScore\": 1.1003053615859875}, {\"name\": \"Chloride intracellular channel protein 6\", \"accession\": \"Q96NY7\", \"gene\": \"CLIC6\", \"idgFamily\": \"Ion Channel\", \"idgTDL\": \"Tbio\", \"novelty\": -1.0457393953342438, \"antibodyCount\": 164, \"monoclonalCount\": 0, \"jensenScore\": 11.700882, \"patentCount\": 1932.0, \"ppiCount\": null, \"knowledgeAvailability\": 26.35359801052565, \"pubTatorScore\": 0.618902554110987}, {\"name\": \"Potassium voltage-gated channel subfamily D member 1\", \"accession\": \"Q9NSA2\", \"gene\": \"KCND1\", \"idgFamily\": \"Ion Channel\", \"idgTDL\": \"Tclin\", \"novelty\": -1.197538258053642, \"antibodyCount\": 183, \"monoclonalCount\": 2, \"jensenScore\": 14.176547, \"patentCount\": 296.0, \"ppiCount\": null, \"knowledgeAvailability\": 28.06251554326753, \"pubTatorScore\": 1.1657181698696262}, {\"name\": \"Neuronal acetylcholine receptor subunit alpha-2\", \"accession\": \"Q15822\", \"gene\": \"CHRNA2\", \"idgFamily\": \"Ion Channel\", \"idgTDL\": \"Tchem\", \"novelty\": -1.3172173130943414, \"antibodyCount\": 117, \"monoclonalCount\": 0, \"jensenScore\": 18.278306, \"patentCount\": 825.0, \"ppiCount\": null, \"knowledgeAvailability\": 28.613306936454446, \"pubTatorScore\": 1.5205153143354373}, {\"name\": \"Sodium channel subunit beta-2\", \"accession\": \"O60939\", \"gene\": \"SCN2B\", \"idgFamily\": \"Ion Channel\", \"idgTDL\": \"Tbio\", \"novelty\": -1.298420618101245, \"antibodyCount\": 156, \"monoclonalCount\": 47, \"jensenScore\": 17.129689, \"patentCount\": 1912.0, \"ppiCount\": 58.0, \"knowledgeAvailability\": 29.906409553429153, \"pubTatorScore\": 1.031054582206085}, {\"name\": \"Potassium channel subfamily K member 7\", \"accession\": \"Q9Y2U2\", \"gene\": \"KCNK7\", \"idgFamily\": \"Ion Channel\", \"idgTDL\": \"Tdark\", \"novelty\": -0.11301438223569951, \"antibodyCount\": 23, \"monoclonalCount\": 2, \"jensenScore\": 1.312499, \"patentCount\": 1498.0, \"ppiCount\": null, \"knowledgeAvailability\": 24.997791407191908, \"pubTatorScore\": 0.3092114249546153}, {\"name\": \"Potassium voltage-gated channel subfamily C member 4\", \"accession\": \"Q03721\", \"gene\": \"KCNC4\", \"idgFamily\": \"Ion Channel\", \"idgTDL\": \"Tclin\", \"novelty\": -1.7547837899789889, \"antibodyCount\": 213, \"monoclonalCount\": 59, \"jensenScore\": 56.802244, \"patentCount\": 1785.0, \"ppiCount\": 26.0, \"knowledgeAvailability\": 40.03688679087086, \"pubTatorScore\": 1.5761488125515868}, {\"name\": \"Potassium voltage-gated channel subfamily H member 6\", \"accession\": \"Q9H252\", \"gene\": \"KCNH6\", \"idgFamily\": \"Ion Channel\", \"idgTDL\": \"Tclin\", \"novelty\": -1.7019818329032312, \"antibodyCount\": 99, \"monoclonalCount\": 20, \"jensenScore\": 48.624925, \"patentCount\": 4670.0, \"ppiCount\": null, \"knowledgeAvailability\": 25.597583797322205, \"pubTatorScore\": 1.216090943718159}, {\"name\": \"Neuronal acetylcholine receptor subunit alpha-10\", \"accession\": \"Q9GZZ6\", \"gene\": \"CHRNA10\", \"idgFamily\": \"Ion Channel\", \"idgTDL\": \"Tchem\", \"novelty\": -0.5850968296649731, \"antibodyCount\": 128, \"monoclonalCount\": 2, \"jensenScore\": 2.970463, \"patentCount\": 221.0, \"ppiCount\": null, \"knowledgeAvailability\": 28.685915440451197, \"pubTatorScore\": 0.6326672010652589}, {\"name\": \"Protein tweety homolog 1\", \"accession\": \"Q9H313\", \"gene\": \"TTYH1\", \"idgFamily\": \"Ion Channel\", \"idgTDL\": \"Tbio\", \"novelty\": -0.947993548870667, \"antibodyCount\": 131, \"monoclonalCount\": 28, \"jensenScore\": 0.0, \"patentCount\": 285.0, \"ppiCount\": null, \"knowledgeAvailability\": 31.250831541136264, \"pubTatorScore\": 0.9627375010764387}, {\"name\": \"Acetylcholine receptor subunit beta\", \"accession\": \"P11230\", \"gene\": \"CHRNB1\", \"idgFamily\": \"Ion Channel\", \"idgTDL\": \"Tclin\", \"novelty\": -1.2622187543962644, \"antibodyCount\": 180, \"monoclonalCount\": 39, \"jensenScore\": 17.862531, \"patentCount\": 1362.0, \"ppiCount\": 27.0, \"knowledgeAvailability\": 37.389149423067195, \"pubTatorScore\": 1.3952943397303939}, {\"name\": \"Gamma-aminobutyric acid receptor subunit gamma-1\", \"accession\": \"Q8N1C3\", \"gene\": \"GABRG1\", \"idgFamily\": \"Ion Channel\", \"idgTDL\": \"Tclin\", \"novelty\": -1.0317439712126453, \"antibodyCount\": 92, \"monoclonalCount\": 2, \"jensenScore\": 10.050791, \"patentCount\": 481.0, \"ppiCount\": null, \"knowledgeAvailability\": 25.7574587124319, \"pubTatorScore\": 1.2713430895372542}, {\"name\": \"Calcium-activated potassium channel subunit beta-3\", \"accession\": \"Q9NPA1\", \"gene\": \"KCNMB3\", \"idgFamily\": \"Ion Channel\", \"idgTDL\": \"Tbio\", \"novelty\": -0.7600872596673671, \"antibodyCount\": 184, \"monoclonalCount\": 127, \"jensenScore\": 6.193505, \"patentCount\": 2171.0, \"ppiCount\": null, \"knowledgeAvailability\": 26.762072557356696, \"pubTatorScore\": 1.4388378848811298}, {\"name\": \"Voltage-gated potassium channel subunit beta-2\", \"accession\": \"Q13303\", \"gene\": \"KCNAB2\", \"idgFamily\": \"Ion Channel\", \"idgTDL\": \"Tbio\", \"novelty\": -1.6687594193741335, \"antibodyCount\": 123, \"monoclonalCount\": 29, \"jensenScore\": 43.585505, \"patentCount\": 3436.0, \"ppiCount\": 1.0, \"knowledgeAvailability\": 41.851390043778196, \"pubTatorScore\": 1.3809143740364587}, {\"name\": \"Potassium voltage-gated channel subfamily S member 1\", \"accession\": \"Q96KK3\", \"gene\": \"KCNS1\", \"idgFamily\": \"Ion Channel\", \"idgTDL\": \"Tclin\", \"novelty\": -0.9831651452217146, \"antibodyCount\": 37, \"monoclonalCount\": 0, \"jensenScore\": 8.699638, \"patentCount\": 647.0, \"ppiCount\": null, \"knowledgeAvailability\": 26.578352573422443, \"pubTatorScore\": 0.8006539223251484}, {\"name\": \"ATP-sensitive inward rectifier potassium channel 14\", \"accession\": \"Q9UNX9\", \"gene\": \"KCNJ14\", \"idgFamily\": \"Ion Channel\", \"idgTDL\": \"Tchem\", \"novelty\": -1.1543501982642392, \"antibodyCount\": 7, \"monoclonalCount\": 1, \"jensenScore\": 15.471692, \"patentCount\": 472.0, \"ppiCount\": null, \"knowledgeAvailability\": 32.455599784730396, \"pubTatorScore\": 0.9616393256009714}, {\"name\": \"Calcium permeable stress-gated cation channel 1\", \"accession\": \"Q9P1W3\", \"gene\": \"TMEM63C\", \"idgFamily\": \"Ion Channel\", \"idgTDL\": \"Tdark\", \"novelty\": -1.9639171099959476, \"antibodyCount\": 20, \"monoclonalCount\": 0, \"jensenScore\": 89.427084, \"patentCount\": null, \"ppiCount\": 33.0, \"knowledgeAvailability\": 24.52146530675619, \"pubTatorScore\": 1.5887384206104673}, {\"name\": \"Voltage-gated potassium channel subunit beta-3\", \"accession\": \"O43448\", \"gene\": \"KCNAB3\", \"idgFamily\": \"Ion Channel\", \"idgTDL\": \"Tbio\", \"novelty\": -0.7160974862981484, \"antibodyCount\": 122, \"monoclonalCount\": 2, \"jensenScore\": 5.209598, \"patentCount\": 253.0, \"ppiCount\": 4.0, \"knowledgeAvailability\": 26.65066468386709, \"pubTatorScore\": 0.6252552273501925}, {\"name\": \"Chloride intracellular channel protein 3\", \"accession\": \"O95833\", \"gene\": \"CLIC3\", \"idgFamily\": \"Ion Channel\", \"idgTDL\": \"Tbio\", \"novelty\": -1.0199565660297252, \"antibodyCount\": 180, \"monoclonalCount\": 50, \"jensenScore\": 11.145254, \"patentCount\": 1108.0, \"ppiCount\": null, \"knowledgeAvailability\": 29.18874786248198, \"pubTatorScore\": 0.9772195770386505}, {\"name\": \"Pannexin-2\", \"accession\": \"Q96RD6\", \"gene\": \"PANX2\", \"idgFamily\": \"Ion Channel\", \"idgTDL\": \"Tbio\", \"novelty\": -1.7786421067182832, \"antibodyCount\": 126, \"monoclonalCount\": 48, \"jensenScore\": 56.089515, \"patentCount\": 3286.0, \"ppiCount\": null, \"knowledgeAvailability\": 25.926301115146217, \"pubTatorScore\": 1.4466838021334782}, {\"name\": \"Potassium voltage-gated channel subfamily H member 4\", \"accession\": \"Q9UQ05\", \"gene\": \"KCNH4\", \"idgFamily\": \"Ion Channel\", \"idgTDL\": \"Tclin\", \"novelty\": -1.412687152346143, \"antibodyCount\": 78, \"monoclonalCount\": 2, \"jensenScore\": 24.424852, \"patentCount\": 21091.0, \"ppiCount\": null, \"knowledgeAvailability\": 23.18780044705175, \"pubTatorScore\": 1.3053769533679693}, {\"name\": \"Transmembrane channel-like protein 3\", \"accession\": \"Q7Z5M5\", \"gene\": \"TMC3\", \"idgFamily\": \"Ion Channel\", \"idgTDL\": \"Tbio\", \"novelty\": -0.2370887197922139, \"antibodyCount\": 11, \"monoclonalCount\": 0, \"jensenScore\": 1.61369, \"patentCount\": 468.0, \"ppiCount\": null, \"knowledgeAvailability\": 19.665141372912593, \"pubTatorScore\": -0.032555929933104855}, {\"name\": \"Inward rectifier potassium channel 18\", \"accession\": \"B7U540\", \"gene\": \"KCNJ18\", \"idgFamily\": \"Ion Channel\", \"idgTDL\": \"Tdark\", \"novelty\": null, \"antibodyCount\": 43, \"monoclonalCount\": 0, \"jensenScore\": 0.0, \"patentCount\": null, \"ppiCount\": null, \"knowledgeAvailability\": 4.828610813987178, \"pubTatorScore\": 1.0440168420655327}, {\"name\": \"Potassium voltage-gated channel subfamily G member 2\", \"accession\": \"Q9UJ96\", \"gene\": \"KCNG2\", \"idgFamily\": \"Ion Channel\", \"idgTDL\": \"Tclin\", \"novelty\": -0.41945332160487814, \"antibodyCount\": 93, \"monoclonalCount\": 0, \"jensenScore\": 2.528452, \"patentCount\": 2175.0, \"ppiCount\": null, \"knowledgeAvailability\": 22.000845713406214, \"pubTatorScore\": 0.30662314931660445}, {\"name\": \"Chloride channel CLIC-like protein 1\", \"accession\": \"Q96S66\", \"gene\": \"CLCC1\", \"idgFamily\": \"Ion Channel\", \"idgTDL\": \"Tbio\", \"novelty\": -0.7874998427088619, \"antibodyCount\": 97, \"monoclonalCount\": 2, \"jensenScore\": 5.711447, \"patentCount\": 1125.0, \"ppiCount\": 8.0, \"knowledgeAvailability\": 36.165714598317564, \"pubTatorScore\": 0.6197887930319512}, {\"name\": \"Kv channel-interacting protein 4\", \"accession\": \"Q6PIL6\", \"gene\": \"KCNIP4\", \"idgFamily\": \"Ion Channel\", \"idgTDL\": \"Tbio\", \"novelty\": -1.6616249940595451, \"antibodyCount\": 147, \"monoclonalCount\": 18, \"jensenScore\": 49.370884, \"patentCount\": 2767.0, \"ppiCount\": 6.0, \"knowledgeAvailability\": 36.16455623650432, \"pubTatorScore\": 1.3420158525124295}, {\"name\": \"Potassium voltage-gated channel subfamily G member 4\", \"accession\": \"Q8TDN1\", \"gene\": \"KCNG4\", \"idgFamily\": \"Ion Channel\", \"idgTDL\": \"Tclin\", \"novelty\": -0.8586194370181093, \"antibodyCount\": 68, \"monoclonalCount\": 0, \"jensenScore\": 6.95867, \"patentCount\": 693.0, \"ppiCount\": 4.0, \"knowledgeAvailability\": 22.22590828514579, \"pubTatorScore\": 0.6946051989335688}, {\"name\": \"Sulfate anion transporter 1\", \"accession\": \"Q9H2B4\", \"gene\": \"SLC26A1\", \"idgFamily\": \"Ion Channel\", \"idgTDL\": \"Tbio\", \"novelty\": -1.3076932454272012, \"antibodyCount\": 77, \"monoclonalCount\": 1, \"jensenScore\": 18.829708, \"patentCount\": 11881.0, \"ppiCount\": null, \"knowledgeAvailability\": 31.33584162181136, \"pubTatorScore\": 1.09605559333092}, {\"name\": \"CSC1-like protein 2\", \"accession\": \"Q5T3F8\", \"gene\": \"TMEM63B\", \"idgFamily\": \"Ion Channel\", \"idgTDL\": \"Tdark\", \"novelty\": 0.07918124604762482, \"antibodyCount\": 27, \"monoclonalCount\": 0, \"jensenScore\": 0.666666, \"patentCount\": null, \"ppiCount\": null, \"knowledgeAvailability\": 26.23060204328398, \"pubTatorScore\": -0.6020599913279624}, {\"name\": \"Voltage-dependent calcium channel subunit alpha-2/delta-2\", \"accession\": \"Q9NY47\", \"gene\": \"CACNA2D2\", \"idgFamily\": \"Ion Channel\", \"idgTDL\": \"Tclin\", \"novelty\": -1.596828327782976, \"antibodyCount\": 101, \"monoclonalCount\": 28, \"jensenScore\": 37.36088, \"patentCount\": 5795.0, \"ppiCount\": 2.0, \"knowledgeAvailability\": 36.90331527795764, \"pubTatorScore\": 1.205414068881101}, {\"name\": \"Voltage-dependent calcium channel gamma-8 subunit\", \"accession\": \"Q8WXS5\", \"gene\": \"CACNG8\", \"idgFamily\": \"Ion Channel\", \"idgTDL\": \"Tdark\", \"novelty\": -0.2575643010556633, \"antibodyCount\": 67, \"monoclonalCount\": 0, \"jensenScore\": 2.006926, \"patentCount\": 1183.0, \"ppiCount\": 3.0, \"knowledgeAvailability\": 22.043980595017093, \"pubTatorScore\": 0.02915804825515748}, {\"name\": \"Voltage-dependent L-type calcium channel subunit beta-4\", \"accession\": \"O00305\", \"gene\": \"CACNB4\", \"idgFamily\": \"Ion Channel\", \"idgTDL\": \"Tbio\", \"novelty\": -1.563365612289933, \"antibodyCount\": 234, \"monoclonalCount\": 70, \"jensenScore\": 35.593674, \"patentCount\": 5640.0, \"ppiCount\": 4.0, \"knowledgeAvailability\": 42.85330044043211, \"pubTatorScore\": 1.2536426558754117}, {\"name\": \"Chloride intracellular channel protein 2\", \"accession\": \"O15247\", \"gene\": \"CLIC2\", \"idgFamily\": \"Ion Channel\", \"idgTDL\": \"Tbio\", \"novelty\": -1.517035566917113, \"antibodyCount\": 115, \"monoclonalCount\": 12, \"jensenScore\": 30.071676, \"patentCount\": 625.0, \"ppiCount\": null, \"knowledgeAvailability\": 29.279056776719912, \"pubTatorScore\": 1.2628932990567365}, {\"name\": \"Glutamate receptor ionotropic, kainate 3\", \"accession\": \"Q13003\", \"gene\": \"GRIK3\", \"idgFamily\": \"Ion Channel\", \"idgTDL\": \"Tclin\", \"novelty\": -1.5266948147417865, \"antibodyCount\": 139, \"monoclonalCount\": 11, \"jensenScore\": 30.967492, \"patentCount\": 3056.0, \"ppiCount\": 1.0, \"knowledgeAvailability\": 35.974646591675935, \"pubTatorScore\": 1.653372420514192}, {\"name\": \"CSC1-like protein 1\", \"accession\": \"O94886\", \"gene\": \"TMEM63A\", \"idgFamily\": \"Ion Channel\", \"idgTDL\": \"Tdark\", \"novelty\": -0.014240437087902656, \"antibodyCount\": 53, \"monoclonalCount\": 2, \"jensenScore\": 1.066139, \"patentCount\": null, \"ppiCount\": 23.0, \"knowledgeAvailability\": 30.25230098868659, \"pubTatorScore\": null}, {\"name\": \"Gamma-aminobutyric acid receptor subunit alpha-5\", \"accession\": \"P31644\", \"gene\": \"GABRA5\", \"idgFamily\": \"Ion Channel\", \"idgTDL\": \"Tclin\", \"novelty\": -1.5757830484315885, \"antibodyCount\": 189, \"monoclonalCount\": 51, \"jensenScore\": 34.195971, \"patentCount\": 1273.0, \"ppiCount\": null, \"knowledgeAvailability\": 33.02645481042512, \"pubTatorScore\": 1.538547745732188}, {\"name\": \"Voltage-dependent calcium channel gamma-7 subunit\", \"accession\": \"P62955\", \"gene\": \"CACNG7\", \"idgFamily\": \"Ion Channel\", \"idgTDL\": \"Tdark\", \"novelty\": -0.507620309121135, \"antibodyCount\": 68, \"monoclonalCount\": 20, \"jensenScore\": 2.35609, \"patentCount\": 193.0, \"ppiCount\": null, \"knowledgeAvailability\": 18.470119910804748, \"pubTatorScore\": 0.5289880060914519}, {\"name\": \"Voltage-dependent calcium channel subunit alpha-2/delta-4\", \"accession\": \"Q7Z3S7\", \"gene\": \"CACNA2D4\", \"idgFamily\": \"Ion Channel\", \"idgTDL\": \"Tbio\", \"novelty\": -1.6249448243200237, \"antibodyCount\": 133, \"monoclonalCount\": 2, \"jensenScore\": 44.096464, \"patentCount\": 4078.0, \"ppiCount\": null, \"knowledgeAvailability\": 31.82833551508126, \"pubTatorScore\": 0.8687677746170553}]}};\n",
              "      var embedOpt = {\"mode\": \"vega-lite\"};\n",
              "\n",
              "      function showError(el, error){\n",
              "          el.innerHTML = ('<div class=\"error\" style=\"color:red;\">'\n",
              "                          + '<p>JavaScript Error: ' + error.message + '</p>'\n",
              "                          + \"<p>This usually means there's a typo in your chart specification. \"\n",
              "                          + \"See the javascript console for the full traceback.</p>\"\n",
              "                          + '</div>');\n",
              "          throw error;\n",
              "      }\n",
              "      const el = document.getElementById('altair-viz');\n",
              "      vegaEmbed(\"#altair-viz\", spec, embedOpt)\n",
              "        .catch(error => showError(el, error));\n",
              "    })(vegaEmbed);\n",
              "\n",
              "  </script>\n",
              "</body>\n",
              "</html>"
            ]
          },
          "metadata": {
            "tags": []
          },
          "execution_count": 18
        }
      ]
    }
  ]
}