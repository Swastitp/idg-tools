{
  "nbformat": 4,
  "nbformat_minor": 0,
  "metadata": {
    "colab": {
      "name": "TCRD_Intro.ipynb",
      "version": "0.3.2",
      "provenance": []
    },
    "kernelspec": {
      "name": "python3",
      "display_name": "Python 3"
    }
  },
  "cells": [
    {
      "metadata": {
        "id": "bGoESH5cRZQy",
        "colab_type": "text"
      },
      "cell_type": "markdown",
      "source": [
        "<img align=\"right\" src=\"https://druggablegenome.net/IDG_Images_Index/IDGLOGO.png\" width=\"400\">\n",
        "# TCRD Introduction\n",
        "* http://juniper.health.unm.edu/tcrd/\n",
        "* http://juniper.health.unm.edu/tcrd/api.html\n",
        "* https://pharos.nih.gov/idg/api"
      ]
    },
    {
      "metadata": {
        "id": "7brPTQzLgyw7",
        "colab_type": "text"
      },
      "cell_type": "markdown",
      "source": [
        "### Imports and installs"
      ]
    },
    {
      "metadata": {
        "id": "A7bXRlm3RT0f",
        "colab_type": "code",
        "colab": {
          "base_uri": "https://localhost:8080/",
          "height": 173
        },
        "outputId": "7212ddc4-667d-4d7e-8977-d85c5fbfe759"
      },
      "cell_type": "code",
      "source": [
        "import sys, json, urllib.request\n",
        "import pandas\n",
        "import matplotlib.pyplot\n",
        "import altair #Ok for Colaboratory, not GitHub\n",
        "!pip install mysql-connector-python\n",
        "import mysql.connector as mysql\n"
      ],
      "execution_count": 4,
      "outputs": [
        {
          "output_type": "stream",
          "text": [
            "Collecting mysql-connector-python\n",
            "\u001b[?25l  Downloading https://files.pythonhosted.org/packages/32/a6/ebc16e531211e1ca8ff4cdd86328da101a2ed7349b13f8aba9ee812c6791/mysql_connector_python-8.0.15-cp36-cp36m-manylinux1_x86_64.whl (8.1MB)\n",
            "\u001b[K    100% |████████████████████████████████| 8.1MB 4.2MB/s \n",
            "\u001b[?25hRequirement already satisfied: protobuf>=3.0.0 in /usr/local/lib/python3.6/dist-packages (from mysql-connector-python) (3.7.1)\n",
            "Requirement already satisfied: setuptools in /usr/local/lib/python3.6/dist-packages (from protobuf>=3.0.0->mysql-connector-python) (40.9.0)\n",
            "Requirement already satisfied: six>=1.9 in /usr/local/lib/python3.6/dist-packages (from protobuf>=3.0.0->mysql-connector-python) (1.11.0)\n",
            "Installing collected packages: mysql-connector-python\n",
            "Successfully installed mysql-connector-python-8.0.15\n"
          ],
          "name": "stdout"
        }
      ]
    },
    {
      "metadata": {
        "id": "inGLo7mrCYmM",
        "colab_type": "text"
      },
      "cell_type": "markdown",
      "source": [
        "### DB Specs"
      ]
    },
    {
      "metadata": {
        "id": "ruCg_kalCOCM",
        "colab_type": "code",
        "colab": {}
      },
      "cell_type": "code",
      "source": [
        "DBHOST = \"tcrd.kmc.io\"\n",
        "DBNAME = \"tcrd540\"\n",
        "DBUSR = \"tcrd\""
      ],
      "execution_count": 0,
      "outputs": []
    },
    {
      "metadata": {
        "id": "RwQmgiFRCWKk",
        "colab_type": "text"
      },
      "cell_type": "markdown",
      "source": [
        "### Connect"
      ]
    },
    {
      "metadata": {
        "id": "xGkzEvN_CSMr",
        "colab_type": "code",
        "colab": {}
      },
      "cell_type": "code",
      "source": [
        "dbcon=mysql.connect(host=DBHOST, db=DBNAME, user=DBUSR)"
      ],
      "execution_count": 0,
      "outputs": []
    },
    {
      "metadata": {
        "id": "gESQaeo_DaDQ",
        "colab_type": "text"
      },
      "cell_type": "markdown",
      "source": [
        "### Db Info"
      ]
    },
    {
      "metadata": {
        "id": "4MSpkuGPDcvP",
        "colab_type": "code",
        "colab": {
          "base_uri": "https://localhost:8080/",
          "height": 119
        },
        "outputId": "d470f125-3af8-4cd3-dacb-bcb8b5016307"
      },
      "cell_type": "code",
      "source": [
        "def Info(dbcon):\n",
        "  cur=dbcon.cursor(dictionary=True)\n",
        "  cur.execute('SELECT * FROM dbinfo')\n",
        "  row=cur.fetchone()\n",
        "  return row\n",
        "Info(dbcon)"
      ],
      "execution_count": 10,
      "outputs": [
        {
          "output_type": "execute_result",
          "data": {
            "text/plain": [
              "{'data_ver': '5.4.0',\n",
              " 'dbname': 'tcrd',\n",
              " 'dump_file': None,\n",
              " 'is_copy': 0,\n",
              " 'owner': 'smathias',\n",
              " 'schema_ver': '5.1.0'}"
            ]
          },
          "metadata": {
            "tags": []
          },
          "execution_count": 10
        }
      ]
    },
    {
      "metadata": {
        "id": "RzefXToOfsJX",
        "colab_type": "text"
      },
      "cell_type": "markdown",
      "source": [
        "### List tables:"
      ]
    },
    {
      "metadata": {
        "id": "ytJFr1o0SWw6",
        "colab_type": "code",
        "outputId": "06370920-0b8d-4df7-d9c7-99f6c1d70bfc",
        "colab": {
          "base_uri": "https://localhost:8080/",
          "height": 986
        }
      },
      "cell_type": "code",
      "source": [
        "def ListTables(dbcon)\n",
        "  cur=dbcon.cursor()\n",
        "  cur.execute('SHOW TABLES')\n",
        "  rows=cur.fetchall()\n",
        "  tables=[row[0] for row in rows]\n",
        "  tables.sort()\n",
        "  return tables\n",
        "ListTables(dbcon)"
      ],
      "execution_count": 6,
      "outputs": [
        {
          "output_type": "execute_result",
          "data": {
            "text/plain": [
              "['alias',\n",
              " 'cmpd_activity',\n",
              " 'cmpd_activity_type',\n",
              " 'compartment',\n",
              " 'compartment_type',\n",
              " 'data_type',\n",
              " 'dataset',\n",
              " 'dbinfo',\n",
              " 'disease',\n",
              " 'disease_type',\n",
              " 'do',\n",
              " 'do_parent',\n",
              " 'drug_activity',\n",
              " 'dto',\n",
              " 'expression',\n",
              " 'expression_type',\n",
              " 'feature',\n",
              " 'gene_attribute',\n",
              " 'gene_attribute_type',\n",
              " 'generif',\n",
              " 'goa',\n",
              " 'hgram_cdf',\n",
              " 'info_type',\n",
              " 'kegg_distance',\n",
              " 'kegg_nearest_tclin',\n",
              " 'locsig',\n",
              " 'mlp_assay_info',\n",
              " 'ortholog',\n",
              " 'ortholog_disease',\n",
              " 'p2pc',\n",
              " 'panther_class',\n",
              " 'patent_count',\n",
              " 'pathway',\n",
              " 'pathway_type',\n",
              " 'phenotype',\n",
              " 'phenotype_type',\n",
              " 'pmscore',\n",
              " 'ppi',\n",
              " 'ppi_type',\n",
              " 'protein',\n",
              " 'protein2pubmed',\n",
              " 'provenance',\n",
              " 'ptscore',\n",
              " 'pubmed',\n",
              " 't2tc',\n",
              " 'target',\n",
              " 'tdl_info',\n",
              " 'tdl_update_log',\n",
              " 'techdev_contact',\n",
              " 'techdev_info',\n",
              " 'tinx_articlerank',\n",
              " 'tinx_disease',\n",
              " 'tinx_importance',\n",
              " 'tinx_novelty',\n",
              " 'tinx_target',\n",
              " 'xref',\n",
              " 'xref_type']"
            ]
          },
          "metadata": {
            "tags": []
          },
          "execution_count": 6
        }
      ]
    },
    {
      "metadata": {
        "id": "3R7lnqFLD-Rz",
        "colab_type": "text"
      },
      "cell_type": "markdown",
      "source": [
        "### Fetch targets"
      ]
    },
    {
      "metadata": {
        "id": "wF9AVMEsEBiY",
        "colab_type": "code",
        "colab": {
          "base_uri": "https://localhost:8080/",
          "height": 513
        },
        "outputId": "6d5bb796-503a-4c05-f709-f7c90e68b9b4"
      },
      "cell_type": "code",
      "source": [
        "sql='''\n",
        "SELECT\n",
        "        target.id AS \"target_id\",\n",
        "        target.name,\n",
        "        target.fam,\n",
        "        target.tdl,\n",
        "        target.idg2,\n",
        "        protein.id AS \"protein_id\",\n",
        "        protein.sym,\n",
        "        protein.family,\n",
        "        protein.geneid,\n",
        "        protein.uniprot,\n",
        "        protein.up_version,\n",
        "        protein.stringid,\n",
        "        protein.chr,\n",
        "        protein.description,\n",
        "        protein.dtoid\n",
        "FROM\n",
        "        target\n",
        "JOIN\n",
        "  t2tc ON t2tc.target_id = target.id\n",
        "JOIN\n",
        "  protein ON protein.id = t2tc.protein_id\n",
        "'''\n",
        "\n",
        "tgts = pandas.read_sql(sql, dbcon)\n",
        "tgts.head()"
      ],
      "execution_count": 13,
      "outputs": [
        {
          "output_type": "execute_result",
          "data": {
            "text/html": [
              "<div>\n",
              "<style scoped>\n",
              "    .dataframe tbody tr th:only-of-type {\n",
              "        vertical-align: middle;\n",
              "    }\n",
              "\n",
              "    .dataframe tbody tr th {\n",
              "        vertical-align: top;\n",
              "    }\n",
              "\n",
              "    .dataframe thead th {\n",
              "        text-align: right;\n",
              "    }\n",
              "</style>\n",
              "<table border=\"1\" class=\"dataframe\">\n",
              "  <thead>\n",
              "    <tr style=\"text-align: right;\">\n",
              "      <th></th>\n",
              "      <th>target_id</th>\n",
              "      <th>name</th>\n",
              "      <th>fam</th>\n",
              "      <th>tdl</th>\n",
              "      <th>idg2</th>\n",
              "      <th>protein_id</th>\n",
              "      <th>sym</th>\n",
              "      <th>family</th>\n",
              "      <th>geneid</th>\n",
              "      <th>uniprot</th>\n",
              "      <th>up_version</th>\n",
              "      <th>stringid</th>\n",
              "      <th>chr</th>\n",
              "      <th>description</th>\n",
              "      <th>dtoid</th>\n",
              "    </tr>\n",
              "  </thead>\n",
              "  <tbody>\n",
              "    <tr>\n",
              "      <th>0</th>\n",
              "      <td>1</td>\n",
              "      <td>14-3-3 protein epsilon</td>\n",
              "      <td>None</td>\n",
              "      <td>Tbio</td>\n",
              "      <td>0</td>\n",
              "      <td>1</td>\n",
              "      <td>YWHAE</td>\n",
              "      <td>Belongs to the 14-3-3 family.</td>\n",
              "      <td>7531.0</td>\n",
              "      <td>P62258</td>\n",
              "      <td>1</td>\n",
              "      <td>ENSP00000264335</td>\n",
              "      <td>17p13.3</td>\n",
              "      <td>14-3-3 protein epsilon</td>\n",
              "      <td>None</td>\n",
              "    </tr>\n",
              "    <tr>\n",
              "      <th>1</th>\n",
              "      <td>2</td>\n",
              "      <td>14-3-3 protein eta</td>\n",
              "      <td>None</td>\n",
              "      <td>Tchem</td>\n",
              "      <td>0</td>\n",
              "      <td>2</td>\n",
              "      <td>YWHAH</td>\n",
              "      <td>Belongs to the 14-3-3 family.</td>\n",
              "      <td>7533.0</td>\n",
              "      <td>Q04917</td>\n",
              "      <td>4</td>\n",
              "      <td>ENSP00000248975</td>\n",
              "      <td>22q12.3</td>\n",
              "      <td>14-3-3 protein eta</td>\n",
              "      <td>None</td>\n",
              "    </tr>\n",
              "    <tr>\n",
              "      <th>2</th>\n",
              "      <td>3</td>\n",
              "      <td>14-3-3 protein theta</td>\n",
              "      <td>None</td>\n",
              "      <td>Tchem</td>\n",
              "      <td>0</td>\n",
              "      <td>3</td>\n",
              "      <td>YWHAQ</td>\n",
              "      <td>Belongs to the 14-3-3 family.</td>\n",
              "      <td>10971.0</td>\n",
              "      <td>P27348</td>\n",
              "      <td>1</td>\n",
              "      <td>ENSP00000238081</td>\n",
              "      <td>2p25.1</td>\n",
              "      <td>14-3-3 protein theta</td>\n",
              "      <td>None</td>\n",
              "    </tr>\n",
              "    <tr>\n",
              "      <th>3</th>\n",
              "      <td>4</td>\n",
              "      <td>HLA class I histocompatibility antigen, A-1 al...</td>\n",
              "      <td>None</td>\n",
              "      <td>Tbio</td>\n",
              "      <td>0</td>\n",
              "      <td>4</td>\n",
              "      <td>HLA-A</td>\n",
              "      <td>Belongs to the MHC class I family.</td>\n",
              "      <td>3105.0</td>\n",
              "      <td>P30443</td>\n",
              "      <td>1</td>\n",
              "      <td>ENSP00000366005</td>\n",
              "      <td>6p22.1</td>\n",
              "      <td>HLA class I histocompatibility antigen, A-1 al...</td>\n",
              "      <td>None</td>\n",
              "    </tr>\n",
              "    <tr>\n",
              "      <th>4</th>\n",
              "      <td>5</td>\n",
              "      <td>HLA class I histocompatibility antigen, A-3 al...</td>\n",
              "      <td>None</td>\n",
              "      <td>Tbio</td>\n",
              "      <td>0</td>\n",
              "      <td>5</td>\n",
              "      <td>HLA-A</td>\n",
              "      <td>Belongs to the MHC class I family.</td>\n",
              "      <td>3105.0</td>\n",
              "      <td>P04439</td>\n",
              "      <td>2</td>\n",
              "      <td>ENSP00000366005</td>\n",
              "      <td>6p22.1</td>\n",
              "      <td>HLA class I histocompatibility antigen, A-3 al...</td>\n",
              "      <td>None</td>\n",
              "    </tr>\n",
              "  </tbody>\n",
              "</table>\n",
              "</div>"
            ],
            "text/plain": [
              "   target_id                                               name   fam    tdl  \\\n",
              "0          1                             14-3-3 protein epsilon  None   Tbio   \n",
              "1          2                                 14-3-3 protein eta  None  Tchem   \n",
              "2          3                               14-3-3 protein theta  None  Tchem   \n",
              "3          4  HLA class I histocompatibility antigen, A-1 al...  None   Tbio   \n",
              "4          5  HLA class I histocompatibility antigen, A-3 al...  None   Tbio   \n",
              "\n",
              "   idg2  protein_id    sym                              family   geneid  \\\n",
              "0     0           1  YWHAE       Belongs to the 14-3-3 family.   7531.0   \n",
              "1     0           2  YWHAH       Belongs to the 14-3-3 family.   7533.0   \n",
              "2     0           3  YWHAQ       Belongs to the 14-3-3 family.  10971.0   \n",
              "3     0           4  HLA-A  Belongs to the MHC class I family.   3105.0   \n",
              "4     0           5  HLA-A  Belongs to the MHC class I family.   3105.0   \n",
              "\n",
              "  uniprot  up_version         stringid      chr  \\\n",
              "0  P62258           1  ENSP00000264335  17p13.3   \n",
              "1  Q04917           4  ENSP00000248975  22q12.3   \n",
              "2  P27348           1  ENSP00000238081   2p25.1   \n",
              "3  P30443           1  ENSP00000366005   6p22.1   \n",
              "4  P04439           2  ENSP00000366005   6p22.1   \n",
              "\n",
              "                                         description dtoid  \n",
              "0                             14-3-3 protein epsilon  None  \n",
              "1                                 14-3-3 protein eta  None  \n",
              "2                               14-3-3 protein theta  None  \n",
              "3  HLA class I histocompatibility antigen, A-1 al...  None  \n",
              "4  HLA class I histocompatibility antigen, A-3 al...  None  "
            ]
          },
          "metadata": {
            "tags": []
          },
          "execution_count": 13
        }
      ]
    }
  ]
}